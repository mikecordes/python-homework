{
 "cells": [
  {
   "cell_type": "code",
   "execution_count": null,
   "id": "396b81fe-a255-464c-a1f5-8ded295e78da",
   "metadata": {},
   "outputs": [],
   "source": [
    "#Directions\n",
    "#In this activity, you are tasked with creating a Python script for analyzing the financial records of your company.\n",
    "#You will be provided with a financial dataset in this file: budget_data.csv. \n",
    "#This dataset is composed of two columns, Date and Profit/Losses. \n",
    "#Thankfully, your company has rather lax standards for accounting, so the records are simple.\n",
    "\n",
    "#Your task is to create a Python script that analyzes the records to calculate each of the following:\n"
   ]
  },
  {
   "cell_type": "code",
   "execution_count": null,
   "id": "09ac7f86-8ac0-48b8-9270-8ba00bd1e7a5",
   "metadata": {},
   "outputs": [],
   "source": [
    "#The total number of months included in the dataset."
   ]
  },
  {
   "cell_type": "code",
   "execution_count": null,
   "id": "f81b8ec2-8523-40df-b466-e1405be89bf8",
   "metadata": {},
   "outputs": [],
   "source": [
    "#The net total amount of Profit/Losses over the entire period."
   ]
  },
  {
   "cell_type": "code",
   "execution_count": null,
   "id": "0d782c37-be73-4398-922d-0357cc539a81",
   "metadata": {},
   "outputs": [],
   "source": [
    "#The average of the changes in Profit/Losses over the entire period."
   ]
  },
  {
   "cell_type": "code",
   "execution_count": null,
   "id": "8ab1fde3-02f5-4e78-83b6-44ad9e5c6f1f",
   "metadata": {},
   "outputs": [],
   "source": [
    "#The greatest increase in profits (date and amount) over the entire period."
   ]
  },
  {
   "cell_type": "code",
   "execution_count": null,
   "id": "e8c7bae8-2cba-447e-9cb3-943c0330f1e0",
   "metadata": {},
   "outputs": [],
   "source": [
    "#The greatest decrease in losses (date and amount) over the entire period."
   ]
  }
 ],
 "metadata": {
  "kernelspec": {
   "display_name": "Python 3",
   "language": "python",
   "name": "python3"
  },
  "language_info": {
   "codemirror_mode": {
    "name": "ipython",
    "version": 3
   },
   "file_extension": ".py",
   "mimetype": "text/x-python",
   "name": "python",
   "nbconvert_exporter": "python",
   "pygments_lexer": "ipython3",
   "version": "3.7.10"
  }
 },
 "nbformat": 4,
 "nbformat_minor": 5
}
