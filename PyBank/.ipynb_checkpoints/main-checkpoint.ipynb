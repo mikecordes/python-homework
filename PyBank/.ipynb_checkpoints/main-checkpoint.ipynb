{
 "cells": [
  {
   "cell_type": "code",
   "execution_count": 84,
   "id": "99877d6f-30aa-467f-93e5-490a3d9b7cb0",
   "metadata": {},
   "outputs": [],
   "source": [
    "#dependencies\n",
    "from pathlib import Path\n",
    "import csv"
   ]
  },
  {
   "cell_type": "code",
   "execution_count": 85,
   "id": "8e6c9673-bb5b-464a-ba4c-2e8e4296bdc1",
   "metadata": {},
   "outputs": [
    {
     "name": "stdout",
     "output_type": "stream",
     "text": [
      "Current Working Direcotry: C:\\Users\\micha\\FinTechClass\\python-homework\\PyBank\n"
     ]
    }
   ],
   "source": [
    "#import file\n",
    "csvpath = Path(\"budget_data.csv\")\n",
    "\n",
    "#validation of correct working path\n",
    "print(f\"Current Working Direcotry: {Path.cwd()}\")"
   ]
  },
  {
   "cell_type": "code",
   "execution_count": 86,
   "id": "8eaa9af3-e2f0-4080-a40d-f595ed801569",
   "metadata": {},
   "outputs": [],
   "source": [
    "#initialize variables\n",
    "total_months = 0\n",
    "total_profits = 0\n",
    "\n",
    "#initialize empty lists\n",
    "month_of_change = []\n",
    "net_change_list = []\n",
    "\n",
    "#initialize lists for calculations\n",
    "large_increase = [\"\", 0]\n",
    "large_decrease = [\"\", 999999999999]\n"
   ]
  },
  {
   "cell_type": "code",
   "execution_count": 87,
   "id": "4e2c3f94-3347-4b03-b0c8-67652ee17ce3",
   "metadata": {},
   "outputs": [],
   "source": [
    "with open(csvpath, 'r') as pybank_budget:\n",
    "    csvreader = csv.reader(pybank_budget, delimiter=',')\n",
    "    \n",
    "    #read header row\n",
    "    header = next(csvreader)\n",
    "    \n",
    "    #removing first data entry for from net_change_list - could potentially list first month as largest increase\n",
    "    first_row = next(csvreader)\n",
    "    total_months += 1\n",
    "    total_profits = total_profits + int(first_row[1]) \n",
    "    prev_net = int(first_row[1])\n",
    "    \n",
    "    #initializing for loop in csv file\n",
    "    for row in csvreader:\n",
    "        \n",
    "        #count total\n",
    "        total_months += 1\n",
    "        total_profits = total_profits + int(row[1])\n",
    "        \n",
    "        #count net change \n",
    "        net_change = int(row[1]) - prev_net\n",
    "        prev_net = int(row[1])\n",
    "        net_change_list = net_change_list + [net_change]\n",
    "        month_of_change = month_of_change + [row[0]]\n",
    "        \n",
    "        #calculate largest increase in profits\n",
    "        if net_change > large_increase[1]:\n",
    "            large_increase[0] = row[0]\n",
    "            large_increase[1] = net_change\n",
    "       \n",
    "        #calcumate largest decrease in profits\n",
    "        if net_change < large_decrease[1]:\n",
    "            large_decrease[0] = row [0]\n",
    "            large_decrease[1] = net_change\n",
    "\n",
    "#calculate the avg in profit change\n",
    "net_monthly_avg = round(sum(net_change_list) / len(net_change_list),2)      \n",
    "     \n",
    "  "
   ]
  },
  {
   "cell_type": "code",
   "execution_count": 88,
   "id": "3cb15f3e-7703-4cd3-a19e-223f040004cb",
   "metadata": {},
   "outputs": [
    {
     "name": "stdout",
     "output_type": "stream",
     "text": [
      "----------------------------------------------------------\n",
      "Financial Analysis of PyBank\n",
      "----------------------------------------------------------\n",
      "Total Months in Review: 86\n",
      "Total Profits: $38382578\n",
      "Average Change in Profits: $-2315.12\n",
      "Greatest Increase in Profits: $1926159 in Feb-2012\n",
      "Greatest Decrease in Profits: $-2196167 in Sep-2013\n"
     ]
    }
   ],
   "source": [
    "#print to formated results to terminal\n",
    "print(\"----------------------------------------------------------\")\n",
    "print(\"Financial Analysis of PyBank\")\n",
    "print(\"----------------------------------------------------------\")\n",
    "print(\"Total Months in Review: \" + str(total_months))\n",
    "print(\"Total Profits: \" + \"$\" + str(total_profits))\n",
    "print(\"Average Change in Profits: \" + \"$\" + str(net_monthly_avg))\n",
    "print(\"Greatest Increase in Profits: \" + \"$\" + str(large_increase[1]) + str(\" \") +\"in\" + str(\" \")+ str(large_increase[0]))\n",
    "print(\"Greatest Decrease in Profits: \" + \"$\" + str(large_decrease[1]) + str(\" \") +\"in\" + str(\" \")+ str(large_decrease[0]))"
   ]
  },
  {
   "cell_type": "code",
   "execution_count": 89,
   "id": "664830fb-1832-45cf-a150-643998ae71d7",
   "metadata": {},
   "outputs": [],
   "source": [
    "#export formated results of analysis to .txt file named financial analysis\n",
    "with open('financial_analysis.txt', 'w') as text:\n",
    "    text.write(\"---------------------------------------------------------\\n\")\n",
    "    text.write(\"Financial Analysis of PyBank\\n\")\n",
    "    text.write(\"----------------------------------------------------------\\n\")\n",
    "    text.write(\"Total Months in Review: \" + str(total_months) + \"\\n\")\n",
    "    text.write(\"Total Profits: \" + \"$\" + str(total_profits) + \"\\n\")\n",
    "    text.write(\"Average Change in Profits: \" + \"$\" + str(net_monthly_avg) + \"\\n\")\n",
    "    text.write(\"Greatest Increase in Profits: \" + \"$\" + str(large_increase[1]) + str(\" \") +\"in\" + str(\" \")+ str(large_increase[0]) + \"\\n\")\n",
    "    text.write(\"Greatest Decrease in Profits: \" + \"$\" + str(large_decrease[1]) + str(\" \") +\"in\" + str(\" \")+ str(large_decrease[0]) + \"\\n\")"
   ]
  },
  {
   "cell_type": "code",
   "execution_count": null,
   "id": "2a829849-1a79-4cbf-b7f6-0a6bd629e5de",
   "metadata": {},
   "outputs": [],
   "source": []
  }
 ],
 "metadata": {
  "kernelspec": {
   "display_name": "Python 3 (ipykernel)",
   "language": "python",
   "name": "python3"
  },
  "language_info": {
   "codemirror_mode": {
    "name": "ipython",
    "version": 3
   },
   "file_extension": ".py",
   "mimetype": "text/x-python",
   "name": "python",
   "nbconvert_exporter": "python",
   "pygments_lexer": "ipython3",
   "version": "3.8.8"
  }
 },
 "nbformat": 4,
 "nbformat_minor": 5
}
